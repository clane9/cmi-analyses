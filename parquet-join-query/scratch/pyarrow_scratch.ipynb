{
 "cells": [
  {
   "cell_type": "code",
   "execution_count": 1,
   "metadata": {},
   "outputs": [
    {
     "name": "stdout",
     "output_type": "stream",
     "text": [
      "br011.ib.bridges2.psc.edu\n"
     ]
    }
   ],
   "source": [
    "! hostname"
   ]
  },
  {
   "cell_type": "code",
   "execution_count": 15,
   "metadata": {},
   "outputs": [],
   "source": [
    "from pathlib import Path\n",
    "from glob import glob\n",
    "\n",
    "import pyarrow as pa\n",
    "from pyarrow import dataset as pads"
   ]
  },
  {
   "cell_type": "code",
   "execution_count": 16,
   "metadata": {},
   "outputs": [
    {
     "data": {
      "text/plain": [
       "'10.0.0'"
      ]
     },
     "execution_count": 16,
     "metadata": {},
     "output_type": "execute_result"
    }
   ],
   "source": [
    "pa.__version__"
   ]
  },
  {
   "cell_type": "code",
   "execution_count": 6,
   "metadata": {},
   "outputs": [],
   "source": [
    "root = \"data\"\n",
    "nrows = 1000\n",
    "nelem = 100\n",
    "\n",
    "datadir = Path(root) / f\"nrows-{nrows}_nelem-{nelem}\"\n",
    "attrib = pads.dataset(str(datadir / \"attrib\"))\n",
    "arrays = pads.dataset(str(datadir / \"arrays\"))"
   ]
  },
  {
   "cell_type": "code",
   "execution_count": 18,
   "metadata": {},
   "outputs": [],
   "source": [
    "filtered = attrib.to_table(filter=pads.field(\"attrib\") < 0.1)"
   ]
  },
  {
   "cell_type": "code",
   "execution_count": 23,
   "metadata": {},
   "outputs": [
    {
     "ename": "ArrowInvalid",
     "evalue": "Data type list<item: double> is not supported in join non-key field",
     "output_type": "error",
     "traceback": [
      "\u001b[0;31m---------------------------------------------------------------------------\u001b[0m",
      "\u001b[0;31mArrowInvalid\u001b[0m                              Traceback (most recent call last)",
      "\u001b[1;32m/jet/home/clane2/med220004p/clane2/code/parquet-join-query/pyarrow_scratch.ipynb Cell 6\u001b[0m in \u001b[0;36m<cell line: 1>\u001b[0;34m()\u001b[0m\n\u001b[0;32m----> <a href='vscode-notebook-cell://ssh-remote%2Bbridges2/jet/home/clane2/med220004p/clane2/code/parquet-join-query/pyarrow_scratch.ipynb#W4sdnNjb2RlLXJlbW90ZQ%3D%3D?line=0'>1</a>\u001b[0m joined \u001b[39m=\u001b[39m filtered\u001b[39m.\u001b[39;49mjoin(arrays, keys\u001b[39m=\u001b[39;49m\u001b[39m\"\u001b[39;49m\u001b[39m__index_level_0__\u001b[39;49m\u001b[39m\"\u001b[39;49m)\n",
      "File \u001b[0;32m~/miniconda3/envs/python39/lib/python3.9/site-packages/pyarrow/table.pxi:4821\u001b[0m, in \u001b[0;36mpyarrow.lib.Table.join\u001b[0;34m()\u001b[0m\n",
      "File \u001b[0;32m~/miniconda3/envs/python39/lib/python3.9/site-packages/pyarrow/_exec_plan.pyx:354\u001b[0m, in \u001b[0;36mpyarrow._exec_plan._perform_join\u001b[0;34m()\u001b[0m\n",
      "File \u001b[0;32m~/miniconda3/envs/python39/lib/python3.9/site-packages/pyarrow/_exec_plan.pyx:128\u001b[0m, in \u001b[0;36mpyarrow._exec_plan.execplan\u001b[0;34m()\u001b[0m\n",
      "File \u001b[0;32m~/miniconda3/envs/python39/lib/python3.9/site-packages/pyarrow/error.pxi:144\u001b[0m, in \u001b[0;36mpyarrow.lib.pyarrow_internal_check_status\u001b[0;34m()\u001b[0m\n",
      "File \u001b[0;32m~/miniconda3/envs/python39/lib/python3.9/site-packages/pyarrow/error.pxi:100\u001b[0m, in \u001b[0;36mpyarrow.lib.check_status\u001b[0;34m()\u001b[0m\n",
      "\u001b[0;31mArrowInvalid\u001b[0m: Data type list<item: double> is not supported in join non-key field"
     ]
    }
   ],
   "source": [
    "joined = filtered.join(arrays, keys=\"__index_level_0__\")"
   ]
  },
  {
   "cell_type": "code",
   "execution_count": 24,
   "metadata": {},
   "outputs": [],
   "source": [
    "# See:\n",
    "# https://stackoverflow.com/questions/73071105/listitem-float-not-supported-in-join-non-key-field\n",
    "# https://issues.apache.org/jira/browse/ARROW-17216"
   ]
  },
  {
   "cell_type": "code",
   "execution_count": null,
   "metadata": {},
   "outputs": [],
   "source": []
  }
 ],
 "metadata": {
  "kernelspec": {
   "display_name": "Python 3.9.13 ('python39')",
   "language": "python",
   "name": "python3"
  },
  "language_info": {
   "codemirror_mode": {
    "name": "ipython",
    "version": 3
   },
   "file_extension": ".py",
   "mimetype": "text/x-python",
   "name": "python",
   "nbconvert_exporter": "python",
   "pygments_lexer": "ipython3",
   "version": "3.9.13"
  },
  "orig_nbformat": 4,
  "vscode": {
   "interpreter": {
    "hash": "54178399f08d9e4f4a60ab23f4a210a71377e48c9bb1378553c53e5ab291a7fd"
   }
  }
 },
 "nbformat": 4,
 "nbformat_minor": 2
}
