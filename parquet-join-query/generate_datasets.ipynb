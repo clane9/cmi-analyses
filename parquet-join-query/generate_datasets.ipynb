{
 "cells": [
  {
   "cell_type": "code",
   "execution_count": 1,
   "metadata": {},
   "outputs": [
    {
     "name": "stdout",
     "output_type": "stream",
     "text": [
      "r002.ib.bridges2.psc.edu\n"
     ]
    }
   ],
   "source": [
    "!hostname"
   ]
  },
  {
   "cell_type": "code",
   "execution_count": 2,
   "metadata": {},
   "outputs": [],
   "source": [
    "import os\n",
    "from pathlib import Path\n",
    "from itertools import product\n",
    "\n",
    "import numpy as np\n",
    "import pandas as pd\n",
    "from tqdm.notebook import tqdm"
   ]
  },
  {
   "cell_type": "code",
   "execution_count": 3,
   "metadata": {},
   "outputs": [],
   "source": [
    "def generate_attributes(nrows: int) -> pd.DataFrame:\n",
    "    index = np.arange(nrows)\n",
    "    attrib = np.random.rand(nrows)\n",
    "    df = pd.DataFrame({\"index\": index, \"attrib\": attrib})\n",
    "    df = df.convert_dtypes()\n",
    "    return df"
   ]
  },
  {
   "cell_type": "code",
   "execution_count": 4,
   "metadata": {},
   "outputs": [],
   "source": [
    "def generate_arrays(nrows: int, nelem: int, offset: int = 0) -> pd.DataFrame:\n",
    "    index = np.arange(offset, offset + nrows)\n",
    "    arrs = [np.random.randn(nelem) for ii in range(nrows)]\n",
    "    df = pd.DataFrame({\"index\": index, \"array\": arrs})\n",
    "    df = df.convert_dtypes()\n",
    "    return df"
   ]
  },
  {
   "cell_type": "code",
   "execution_count": 5,
   "metadata": {},
   "outputs": [],
   "source": [
    "def generate_dataset(\n",
    "    nrows: int,\n",
    "    nelem: int,\n",
    "    batch_size_bytes: int = 128 * 1024 * 1024,\n",
    "    root: str = \"data\",\n",
    "    dry_run: bool = False,\n",
    "):\n",
    "    row_bytes = 4 * 8 * nelem\n",
    "    batch_size = batch_size_bytes // row_bytes\n",
    "    batch_size = 10 * (batch_size // 10)\n",
    "    nbatches = int(np.ceil(nrows / batch_size))\n",
    "    total_gb = (row_bytes * nrows) / 1e9\n",
    "    print(\n",
    "        f\"nrows={nrows}\\tnelem={nelem}\\tnbatches={nbatches}\\t\"\n",
    "        f\"row_bytes={row_bytes}\\tbatch_size={batch_size}\\t\"\n",
    "        f\"total_gb={total_gb:.2f}\"\n",
    "    )\n",
    "    if dry_run:\n",
    "        return\n",
    "\n",
    "    datadir = Path(root) / f\"nrows-{nrows}_nelem-{nelem}\"   \n",
    "    os.makedirs(datadir, exist_ok=True)\n",
    "\n",
    "    attrib = generate_attributes(nrows)\n",
    "    attrib.to_parquet(datadir / \"attrib.parquet\")\n",
    "\n",
    "    for offset in tqdm(range(0, nrows, batch_size)):\n",
    "        batch_nrows = min(batch_size, nrows - offset)\n",
    "        arrays = generate_arrays(batch_nrows, nelem, offset=offset)\n",
    "        arrays.to_parquet(datadir / f\"arrays-{offset:08d}.parquet\")"
   ]
  },
  {
   "cell_type": "code",
   "execution_count": 8,
   "metadata": {},
   "outputs": [
    {
     "name": "stdout",
     "output_type": "stream",
     "text": [
      "nrows=1000\tnelem=10\tnbatches=1\trow_bytes=320\tbatch_size=419430\ttotal_gb=0.00\n"
     ]
    },
    {
     "data": {
      "application/vnd.jupyter.widget-view+json": {
       "model_id": "2c2a0396c68a47eebdd2f1dc8992e977",
       "version_major": 2,
       "version_minor": 0
      },
      "text/plain": [
       "  0%|          | 0/1 [00:00<?, ?it/s]"
      ]
     },
     "metadata": {},
     "output_type": "display_data"
    },
    {
     "name": "stdout",
     "output_type": "stream",
     "text": [
      "nrows=1000\tnelem=100\tnbatches=1\trow_bytes=3200\tbatch_size=41940\ttotal_gb=0.00\n"
     ]
    },
    {
     "data": {
      "application/vnd.jupyter.widget-view+json": {
       "model_id": "140ff3d30864401cbe89b48c76a556ee",
       "version_major": 2,
       "version_minor": 0
      },
      "text/plain": [
       "  0%|          | 0/1 [00:00<?, ?it/s]"
      ]
     },
     "metadata": {},
     "output_type": "display_data"
    },
    {
     "name": "stdout",
     "output_type": "stream",
     "text": [
      "nrows=1000\tnelem=1000\tnbatches=1\trow_bytes=32000\tbatch_size=4190\ttotal_gb=0.03\n"
     ]
    },
    {
     "data": {
      "application/vnd.jupyter.widget-view+json": {
       "model_id": "025325e3e82040a89919fd4f5461f29f",
       "version_major": 2,
       "version_minor": 0
      },
      "text/plain": [
       "  0%|          | 0/1 [00:00<?, ?it/s]"
      ]
     },
     "metadata": {},
     "output_type": "display_data"
    },
    {
     "name": "stdout",
     "output_type": "stream",
     "text": [
      "nrows=1000\tnelem=10000\tnbatches=3\trow_bytes=320000\tbatch_size=410\ttotal_gb=0.32\n"
     ]
    },
    {
     "data": {
      "application/vnd.jupyter.widget-view+json": {
       "model_id": "5095aa2d2209487c849caaa8452a750e",
       "version_major": 2,
       "version_minor": 0
      },
      "text/plain": [
       "  0%|          | 0/3 [00:00<?, ?it/s]"
      ]
     },
     "metadata": {},
     "output_type": "display_data"
    },
    {
     "name": "stdout",
     "output_type": "stream",
     "text": [
      "nrows=10000\tnelem=10\tnbatches=1\trow_bytes=320\tbatch_size=419430\ttotal_gb=0.00\n"
     ]
    },
    {
     "data": {
      "application/vnd.jupyter.widget-view+json": {
       "model_id": "14139e256cde4829bc22c9fcdfccf987",
       "version_major": 2,
       "version_minor": 0
      },
      "text/plain": [
       "  0%|          | 0/1 [00:00<?, ?it/s]"
      ]
     },
     "metadata": {},
     "output_type": "display_data"
    },
    {
     "name": "stdout",
     "output_type": "stream",
     "text": [
      "nrows=10000\tnelem=100\tnbatches=1\trow_bytes=3200\tbatch_size=41940\ttotal_gb=0.03\n"
     ]
    },
    {
     "data": {
      "application/vnd.jupyter.widget-view+json": {
       "model_id": "11087f8394c741a6b945a2205a8f20c6",
       "version_major": 2,
       "version_minor": 0
      },
      "text/plain": [
       "  0%|          | 0/1 [00:00<?, ?it/s]"
      ]
     },
     "metadata": {},
     "output_type": "display_data"
    },
    {
     "name": "stdout",
     "output_type": "stream",
     "text": [
      "nrows=10000\tnelem=1000\tnbatches=3\trow_bytes=32000\tbatch_size=4190\ttotal_gb=0.32\n"
     ]
    },
    {
     "data": {
      "application/vnd.jupyter.widget-view+json": {
       "model_id": "98eb9a6fb79a45f19ce0f625c48742ec",
       "version_major": 2,
       "version_minor": 0
      },
      "text/plain": [
       "  0%|          | 0/3 [00:00<?, ?it/s]"
      ]
     },
     "metadata": {},
     "output_type": "display_data"
    },
    {
     "name": "stdout",
     "output_type": "stream",
     "text": [
      "nrows=10000\tnelem=10000\tnbatches=25\trow_bytes=320000\tbatch_size=410\ttotal_gb=3.20\n"
     ]
    },
    {
     "data": {
      "application/vnd.jupyter.widget-view+json": {
       "model_id": "aae9889ac5b74229ba34c985adba8d04",
       "version_major": 2,
       "version_minor": 0
      },
      "text/plain": [
       "  0%|          | 0/25 [00:00<?, ?it/s]"
      ]
     },
     "metadata": {},
     "output_type": "display_data"
    },
    {
     "name": "stdout",
     "output_type": "stream",
     "text": [
      "nrows=100000\tnelem=10\tnbatches=1\trow_bytes=320\tbatch_size=419430\ttotal_gb=0.03\n"
     ]
    },
    {
     "data": {
      "application/vnd.jupyter.widget-view+json": {
       "model_id": "e294a4366ce24620be4a180527900e11",
       "version_major": 2,
       "version_minor": 0
      },
      "text/plain": [
       "  0%|          | 0/1 [00:00<?, ?it/s]"
      ]
     },
     "metadata": {},
     "output_type": "display_data"
    },
    {
     "name": "stdout",
     "output_type": "stream",
     "text": [
      "nrows=100000\tnelem=100\tnbatches=3\trow_bytes=3200\tbatch_size=41940\ttotal_gb=0.32\n"
     ]
    },
    {
     "data": {
      "application/vnd.jupyter.widget-view+json": {
       "model_id": "b93c2dfbbe6c4d53a208929594c1dfbe",
       "version_major": 2,
       "version_minor": 0
      },
      "text/plain": [
       "  0%|          | 0/3 [00:00<?, ?it/s]"
      ]
     },
     "metadata": {},
     "output_type": "display_data"
    },
    {
     "name": "stdout",
     "output_type": "stream",
     "text": [
      "nrows=100000\tnelem=1000\tnbatches=24\trow_bytes=32000\tbatch_size=4190\ttotal_gb=3.20\n"
     ]
    },
    {
     "data": {
      "application/vnd.jupyter.widget-view+json": {
       "model_id": "98909f7e7c4e4dc5a5ec3ae59e174df7",
       "version_major": 2,
       "version_minor": 0
      },
      "text/plain": [
       "  0%|          | 0/24 [00:00<?, ?it/s]"
      ]
     },
     "metadata": {},
     "output_type": "display_data"
    },
    {
     "name": "stdout",
     "output_type": "stream",
     "text": [
      "nrows=100000\tnelem=10000\tnbatches=244\trow_bytes=320000\tbatch_size=410\ttotal_gb=32.00\n"
     ]
    },
    {
     "data": {
      "application/vnd.jupyter.widget-view+json": {
       "model_id": "b29b561b1b5445d69c765db4dad2b45d",
       "version_major": 2,
       "version_minor": 0
      },
      "text/plain": [
       "  0%|          | 0/244 [00:00<?, ?it/s]"
      ]
     },
     "metadata": {},
     "output_type": "display_data"
    }
   ],
   "source": [
    "nrows = 10 ** np.arange(3, 6)\n",
    "nelem = 10 ** np.arange(1, 5)\n",
    "\n",
    "for nrow, nelem in product(nrows, nelem):\n",
    "    generate_dataset(nrow, nelem, dry_run=False)"
   ]
  },
  {
   "cell_type": "code",
   "execution_count": null,
   "metadata": {},
   "outputs": [],
   "source": []
  }
 ],
 "metadata": {
  "kernelspec": {
   "display_name": "python39",
   "language": "python",
   "name": "python39"
  },
  "language_info": {
   "codemirror_mode": {
    "name": "ipython",
    "version": 3
   },
   "file_extension": ".py",
   "mimetype": "text/x-python",
   "name": "python",
   "nbconvert_exporter": "python",
   "pygments_lexer": "ipython3",
   "version": "3.9.13"
  },
  "orig_nbformat": 4,
  "vscode": {
   "interpreter": {
    "hash": "54178399f08d9e4f4a60ab23f4a210a71377e48c9bb1378553c53e5ab291a7fd"
   }
  }
 },
 "nbformat": 4,
 "nbformat_minor": 2
}
