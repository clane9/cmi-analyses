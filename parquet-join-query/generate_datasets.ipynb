{
 "cells": [
  {
   "cell_type": "code",
   "execution_count": 8,
   "metadata": {},
   "outputs": [
    {
     "name": "stdout",
     "output_type": "stream",
     "text": [
      "r004.ib.bridges2.psc.edu\n"
     ]
    }
   ],
   "source": [
    "!hostname"
   ]
  },
  {
   "cell_type": "code",
   "execution_count": 9,
   "metadata": {},
   "outputs": [],
   "source": [
    "import os\n",
    "from pathlib import Path\n",
    "from itertools import product\n",
    "\n",
    "import numpy as np\n",
    "import pandas as pd\n",
    "from tqdm.notebook import tqdm"
   ]
  },
  {
   "cell_type": "code",
   "execution_count": 10,
   "metadata": {},
   "outputs": [],
   "source": [
    "def generate_attributes(nrows: int) -> pd.DataFrame:\n",
    "    index = np.arange(nrows)\n",
    "    attrib = np.random.rand(nrows)\n",
    "    df = pd.DataFrame({\"index\": index, \"attrib\": attrib})\n",
    "    df = df.convert_dtypes()\n",
    "    return df"
   ]
  },
  {
   "cell_type": "code",
   "execution_count": 11,
   "metadata": {},
   "outputs": [],
   "source": [
    "def generate_arrays(nrows: int, nelem: int, offset: int = 0) -> pd.DataFrame:\n",
    "    index = np.arange(offset, offset + nrows)\n",
    "    arrs = [np.random.randn(nelem) for ii in range(nrows)]\n",
    "    df = pd.DataFrame({\"index\": index, \"array\": arrs})\n",
    "    df = df.convert_dtypes()\n",
    "    return df"
   ]
  },
  {
   "cell_type": "code",
   "execution_count": 12,
   "metadata": {},
   "outputs": [],
   "source": [
    "def generate_dataset(\n",
    "    nrows: int,\n",
    "    nelem: int,\n",
    "    batch_size_bytes: int = 128 * 1024 * 1024,\n",
    "    root: str = \"data\",\n",
    "    dry_run: bool = False,\n",
    "):\n",
    "    row_bytes = 4 * 8 * nelem\n",
    "    batch_size = batch_size_bytes // row_bytes\n",
    "    batch_size = 10 * (batch_size // 10)\n",
    "    nbatches = int(np.ceil(nrows / batch_size))\n",
    "    total_gb = (row_bytes * nrows) / 1e9\n",
    "    print(\n",
    "        f\"nrows={nrows}\\tnelem={nelem}\\tnbatches={nbatches}\\t\"\n",
    "        f\"row_bytes={row_bytes}\\tbatch_size={batch_size}\\t\"\n",
    "        f\"total_gb={total_gb:.2f}\"\n",
    "    )\n",
    "    if dry_run:\n",
    "        return\n",
    "\n",
    "    datadir = Path(root) / f\"nrows-{nrows}_nelem-{nelem}\"   \n",
    "    os.makedirs(datadir, exist_ok=True)\n",
    "\n",
    "    attrib = generate_attributes(nrows)\n",
    "    attrib.to_parquet(datadir / \"attrib.parquet\")\n",
    "\n",
    "    for offset in tqdm(range(0, nrows, batch_size)):\n",
    "        batch_nrows = min(batch_size, nrows - offset)\n",
    "        arrays = generate_arrays(batch_nrows, nelem, offset=offset)\n",
    "        arrays.to_parquet(datadir / f\"arrays-{offset:08d}.parquet\")"
   ]
  },
  {
   "cell_type": "code",
   "execution_count": 13,
   "metadata": {},
   "outputs": [
    {
     "name": "stdout",
     "output_type": "stream",
     "text": [
      "nrows=1000\tnelem=10\tnbatches=1\trow_bytes=320\tbatch_size=419430\ttotal_gb=0.00\n"
     ]
    },
    {
     "data": {
      "application/vnd.jupyter.widget-view+json": {
       "model_id": "eae78eba5df94a17ab9d9f27970dd619",
       "version_major": 2,
       "version_minor": 0
      },
      "text/plain": [
       "  0%|          | 0/1 [00:00<?, ?it/s]"
      ]
     },
     "metadata": {},
     "output_type": "display_data"
    },
    {
     "name": "stdout",
     "output_type": "stream",
     "text": [
      "nrows=1000\tnelem=100\tnbatches=1\trow_bytes=3200\tbatch_size=41940\ttotal_gb=0.00\n"
     ]
    },
    {
     "data": {
      "application/vnd.jupyter.widget-view+json": {
       "model_id": "cf3c907d96554d7f88bbfc35e299a901",
       "version_major": 2,
       "version_minor": 0
      },
      "text/plain": [
       "  0%|          | 0/1 [00:00<?, ?it/s]"
      ]
     },
     "metadata": {},
     "output_type": "display_data"
    },
    {
     "name": "stdout",
     "output_type": "stream",
     "text": [
      "nrows=1000\tnelem=1000\tnbatches=1\trow_bytes=32000\tbatch_size=4190\ttotal_gb=0.03\n"
     ]
    },
    {
     "data": {
      "application/vnd.jupyter.widget-view+json": {
       "model_id": "8c1bc2d96cc0433a92bbdbf8e58b5ede",
       "version_major": 2,
       "version_minor": 0
      },
      "text/plain": [
       "  0%|          | 0/1 [00:00<?, ?it/s]"
      ]
     },
     "metadata": {},
     "output_type": "display_data"
    },
    {
     "name": "stdout",
     "output_type": "stream",
     "text": [
      "nrows=1000\tnelem=10000\tnbatches=3\trow_bytes=320000\tbatch_size=410\ttotal_gb=0.32\n"
     ]
    },
    {
     "data": {
      "application/vnd.jupyter.widget-view+json": {
       "model_id": "f778ad60a3cb4aeea3cbdae9959d05aa",
       "version_major": 2,
       "version_minor": 0
      },
      "text/plain": [
       "  0%|          | 0/3 [00:00<?, ?it/s]"
      ]
     },
     "metadata": {},
     "output_type": "display_data"
    },
    {
     "name": "stdout",
     "output_type": "stream",
     "text": [
      "nrows=10000\tnelem=10\tnbatches=1\trow_bytes=320\tbatch_size=419430\ttotal_gb=0.00\n"
     ]
    },
    {
     "data": {
      "application/vnd.jupyter.widget-view+json": {
       "model_id": "78f39bbd162c4b29a7004b9a5fbfc6dd",
       "version_major": 2,
       "version_minor": 0
      },
      "text/plain": [
       "  0%|          | 0/1 [00:00<?, ?it/s]"
      ]
     },
     "metadata": {},
     "output_type": "display_data"
    },
    {
     "name": "stdout",
     "output_type": "stream",
     "text": [
      "nrows=10000\tnelem=100\tnbatches=1\trow_bytes=3200\tbatch_size=41940\ttotal_gb=0.03\n"
     ]
    },
    {
     "data": {
      "application/vnd.jupyter.widget-view+json": {
       "model_id": "997ee91c30974f8b82c55f8fc933d657",
       "version_major": 2,
       "version_minor": 0
      },
      "text/plain": [
       "  0%|          | 0/1 [00:00<?, ?it/s]"
      ]
     },
     "metadata": {},
     "output_type": "display_data"
    },
    {
     "name": "stdout",
     "output_type": "stream",
     "text": [
      "nrows=10000\tnelem=1000\tnbatches=3\trow_bytes=32000\tbatch_size=4190\ttotal_gb=0.32\n"
     ]
    },
    {
     "data": {
      "application/vnd.jupyter.widget-view+json": {
       "model_id": "af88cce39eac4788bdb52047b56ff1fb",
       "version_major": 2,
       "version_minor": 0
      },
      "text/plain": [
       "  0%|          | 0/3 [00:00<?, ?it/s]"
      ]
     },
     "metadata": {},
     "output_type": "display_data"
    },
    {
     "name": "stdout",
     "output_type": "stream",
     "text": [
      "nrows=10000\tnelem=10000\tnbatches=25\trow_bytes=320000\tbatch_size=410\ttotal_gb=3.20\n"
     ]
    },
    {
     "data": {
      "application/vnd.jupyter.widget-view+json": {
       "model_id": "5243a7d2900b44aabccd393215da5c84",
       "version_major": 2,
       "version_minor": 0
      },
      "text/plain": [
       "  0%|          | 0/25 [00:00<?, ?it/s]"
      ]
     },
     "metadata": {},
     "output_type": "display_data"
    },
    {
     "name": "stdout",
     "output_type": "stream",
     "text": [
      "nrows=100000\tnelem=10\tnbatches=1\trow_bytes=320\tbatch_size=419430\ttotal_gb=0.03\n"
     ]
    },
    {
     "data": {
      "application/vnd.jupyter.widget-view+json": {
       "model_id": "9979e1126d1b4a118a07ea73136ef555",
       "version_major": 2,
       "version_minor": 0
      },
      "text/plain": [
       "  0%|          | 0/1 [00:00<?, ?it/s]"
      ]
     },
     "metadata": {},
     "output_type": "display_data"
    },
    {
     "name": "stdout",
     "output_type": "stream",
     "text": [
      "nrows=100000\tnelem=100\tnbatches=3\trow_bytes=3200\tbatch_size=41940\ttotal_gb=0.32\n"
     ]
    },
    {
     "data": {
      "application/vnd.jupyter.widget-view+json": {
       "model_id": "0b128b2c8efd44808d4743ffb56b3bd8",
       "version_major": 2,
       "version_minor": 0
      },
      "text/plain": [
       "  0%|          | 0/3 [00:00<?, ?it/s]"
      ]
     },
     "metadata": {},
     "output_type": "display_data"
    },
    {
     "name": "stdout",
     "output_type": "stream",
     "text": [
      "nrows=100000\tnelem=1000\tnbatches=24\trow_bytes=32000\tbatch_size=4190\ttotal_gb=3.20\n"
     ]
    },
    {
     "data": {
      "application/vnd.jupyter.widget-view+json": {
       "model_id": "587831189d04495298e9ebfcc5cdc4da",
       "version_major": 2,
       "version_minor": 0
      },
      "text/plain": [
       "  0%|          | 0/24 [00:00<?, ?it/s]"
      ]
     },
     "metadata": {},
     "output_type": "display_data"
    },
    {
     "name": "stdout",
     "output_type": "stream",
     "text": [
      "nrows=100000\tnelem=10000\tnbatches=244\trow_bytes=320000\tbatch_size=410\ttotal_gb=32.00\n"
     ]
    },
    {
     "data": {
      "application/vnd.jupyter.widget-view+json": {
       "model_id": "4e956a494e8147a0b04d7b063947b0f5",
       "version_major": 2,
       "version_minor": 0
      },
      "text/plain": [
       "  0%|          | 0/244 [00:00<?, ?it/s]"
      ]
     },
     "metadata": {},
     "output_type": "display_data"
    }
   ],
   "source": [
    "nrows = 10 ** np.arange(3, 6)\n",
    "nelem = 10 ** np.arange(1, 5)\n",
    "\n",
    "for nrow, nelem in product(nrows, nelem):\n",
    "    generate_dataset(nrow, nelem, dry_run=False)"
   ]
  },
  {
   "cell_type": "code",
   "execution_count": null,
   "metadata": {},
   "outputs": [],
   "source": []
  }
 ],
 "metadata": {
  "kernelspec": {
   "display_name": "python39",
   "language": "python",
   "name": "python39"
  },
  "language_info": {
   "codemirror_mode": {
    "name": "ipython",
    "version": 3
   },
   "file_extension": ".py",
   "mimetype": "text/x-python",
   "name": "python",
   "nbconvert_exporter": "python",
   "pygments_lexer": "ipython3",
   "version": "3.9.13"
  },
  "orig_nbformat": 4,
  "vscode": {
   "interpreter": {
    "hash": "54178399f08d9e4f4a60ab23f4a210a71377e48c9bb1378553c53e5ab291a7fd"
   }
  }
 },
 "nbformat": 4,
 "nbformat_minor": 2
}
