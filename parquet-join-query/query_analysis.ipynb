{
 "cells": [
  {
   "cell_type": "code",
   "execution_count": 1,
   "metadata": {},
   "outputs": [
    {
     "name": "stdout",
     "output_type": "stream",
     "text": [
      "br012.ib.bridges2.psc.edu\n"
     ]
    }
   ],
   "source": [
    "!hostname"
   ]
  },
  {
   "cell_type": "code",
   "execution_count": 2,
   "metadata": {},
   "outputs": [],
   "source": [
    "import os\n",
    "from pathlib import Path\n",
    "from itertools import product\n",
    "import time\n",
    "from typing import Tuple\n",
    "\n",
    "import duckdb\n",
    "import numpy as np\n",
    "import pandas as pd\n",
    "from tqdm.notebook import tqdm"
   ]
  },
  {
   "cell_type": "code",
   "execution_count": 3,
   "metadata": {},
   "outputs": [],
   "source": [
    "def dummy_calculation(df: pd.DataFrame) -> float:\n",
    "    array_values = df[\"array\"].values\n",
    "    array_values = np.concatenate(array_values)\n",
    "    return np.mean(array_values)"
   ]
  },
  {
   "cell_type": "code",
   "execution_count": 4,
   "metadata": {},
   "outputs": [],
   "source": [
    "def run_test(\n",
    "    nrows: int,\n",
    "    nelem: int,\n",
    "    root: str = \"data\",\n",
    "    expected_n: int = 200,\n",
    ") -> Tuple[pd.DataFrame, float, float]:\n",
    "\n",
    "    datadir = Path(root)  / f\"nrows-{nrows}_nelem-{nelem}\"\n",
    "    attrib = duckdb.from_parquet(str(datadir / \"attrib.parquet\"))\n",
    "    arrays = duckdb.from_parquet(str(datadir / \"arrays-*.parquet\"))\n",
    "\n",
    "    threshold = expected_n / len(attrib)\n",
    "    filtered = attrib.filter(f\"attrib < {threshold:.6f}\")\n",
    "    filtered = filtered.set_alias(\"filtered\")\n",
    "    arrays = arrays.set_alias(\"arrays\")\n",
    "\n",
    "    tic = time.monotonic()\n",
    "    df = filtered.join(arrays, \"filtered.index = arrays.index\").df()\n",
    "    result = dummy_calculation(df)\n",
    "    rt = time.monotonic() - tic\n",
    "    return df, rt, result"
   ]
  },
  {
   "cell_type": "code",
   "execution_count": 5,
   "metadata": {},
   "outputs": [],
   "source": [
    "df, rt, result = run_test(1000, 100)"
   ]
  },
  {
   "cell_type": "code",
   "execution_count": 7,
   "metadata": {},
   "outputs": [
    {
     "data": {
      "text/html": [
       "<div>\n",
       "<style scoped>\n",
       "    .dataframe tbody tr th:only-of-type {\n",
       "        vertical-align: middle;\n",
       "    }\n",
       "\n",
       "    .dataframe tbody tr th {\n",
       "        vertical-align: top;\n",
       "    }\n",
       "\n",
       "    .dataframe thead th {\n",
       "        text-align: right;\n",
       "    }\n",
       "</style>\n",
       "<table border=\"1\" class=\"dataframe\">\n",
       "  <thead>\n",
       "    <tr style=\"text-align: right;\">\n",
       "      <th></th>\n",
       "      <th>index</th>\n",
       "      <th>attrib</th>\n",
       "      <th>index_2</th>\n",
       "      <th>array</th>\n",
       "    </tr>\n",
       "  </thead>\n",
       "  <tbody>\n",
       "    <tr>\n",
       "      <th>0</th>\n",
       "      <td>0</td>\n",
       "      <td>0.096985</td>\n",
       "      <td>0</td>\n",
       "      <td>[0.11065926902076481, 2.144258450266957, 1.738...</td>\n",
       "    </tr>\n",
       "    <tr>\n",
       "      <th>1</th>\n",
       "      <td>5</td>\n",
       "      <td>0.035192</td>\n",
       "      <td>5</td>\n",
       "      <td>[-0.7613518665760686, 0.5911537640444635, 0.50...</td>\n",
       "    </tr>\n",
       "    <tr>\n",
       "      <th>2</th>\n",
       "      <td>10</td>\n",
       "      <td>0.169460</td>\n",
       "      <td>10</td>\n",
       "      <td>[0.06622648602981021, -0.27364897363442103, -1...</td>\n",
       "    </tr>\n",
       "    <tr>\n",
       "      <th>3</th>\n",
       "      <td>18</td>\n",
       "      <td>0.013489</td>\n",
       "      <td>18</td>\n",
       "      <td>[-0.451220626441112, -0.25187656987984225, -0....</td>\n",
       "    </tr>\n",
       "    <tr>\n",
       "      <th>4</th>\n",
       "      <td>27</td>\n",
       "      <td>0.155097</td>\n",
       "      <td>27</td>\n",
       "      <td>[-0.9431276860085344, -0.12053523843683936, 0....</td>\n",
       "    </tr>\n",
       "  </tbody>\n",
       "</table>\n",
       "</div>"
      ],
      "text/plain": [
       "   index    attrib  index_2                                              array\n",
       "0      0  0.096985        0  [0.11065926902076481, 2.144258450266957, 1.738...\n",
       "1      5  0.035192        5  [-0.7613518665760686, 0.5911537640444635, 0.50...\n",
       "2     10  0.169460       10  [0.06622648602981021, -0.27364897363442103, -1...\n",
       "3     18  0.013489       18  [-0.451220626441112, -0.25187656987984225, -0....\n",
       "4     27  0.155097       27  [-0.9431276860085344, -0.12053523843683936, 0...."
      ]
     },
     "execution_count": 7,
     "metadata": {},
     "output_type": "execute_result"
    }
   ],
   "source": [
    "df.head(5)"
   ]
  },
  {
   "cell_type": "code",
   "execution_count": 6,
   "metadata": {},
   "outputs": [
    {
     "name": "stdout",
     "output_type": "stream",
     "text": [
      "nrow=1000, nelem=10, rt=0.004s\n",
      "nrow=1000, nelem=100, rt=0.010s\n",
      "nrow=1000, nelem=1000, rt=0.141s\n",
      "nrow=1000, nelem=10000, rt=0.763s\n",
      "nrow=10000, nelem=10, rt=0.054s\n",
      "nrow=10000, nelem=100, rt=0.110s\n",
      "nrow=10000, nelem=1000, rt=0.269s\n",
      "nrow=10000, nelem=10000, rt=1.407s\n",
      "nrow=100000, nelem=10, rt=0.060s\n",
      "nrow=100000, nelem=100, rt=0.254s\n",
      "nrow=100000, nelem=1000, rt=1.004s\n",
      "nrow=100000, nelem=10000, rt=2.798s\n"
     ]
    }
   ],
   "source": [
    "results = []\n",
    "\n",
    "nrows = 10 ** np.arange(3, 6)\n",
    "nelem = 10 ** np.arange(1, 5)\n",
    "\n",
    "for nrow, nelem in product(nrows, nelem):\n",
    "    _, rt, value = run_test(nrow, nelem)\n",
    "    results.append([nrow, nelem, rt, value])\n",
    "    print(f\"nrow={nrow}, nelem={nelem}, rt={rt:.3f}s\")\n",
    "\n",
    "results = pd.DataFrame(results, columns=[\"nrow\", \"nelem\", \"rt\", \"value\"])"
   ]
  },
  {
   "cell_type": "code",
   "execution_count": 9,
   "metadata": {},
   "outputs": [
    {
     "data": {
      "text/html": [
       "<div>\n",
       "<style scoped>\n",
       "    .dataframe tbody tr th:only-of-type {\n",
       "        vertical-align: middle;\n",
       "    }\n",
       "\n",
       "    .dataframe tbody tr th {\n",
       "        vertical-align: top;\n",
       "    }\n",
       "\n",
       "    .dataframe thead th {\n",
       "        text-align: right;\n",
       "    }\n",
       "</style>\n",
       "<table border=\"1\" class=\"dataframe\">\n",
       "  <thead>\n",
       "    <tr style=\"text-align: right;\">\n",
       "      <th></th>\n",
       "      <th>nrow</th>\n",
       "      <th>nelem</th>\n",
       "      <th>rt</th>\n",
       "    </tr>\n",
       "  </thead>\n",
       "  <tbody>\n",
       "    <tr>\n",
       "      <th>0</th>\n",
       "      <td>1000</td>\n",
       "      <td>10</td>\n",
       "      <td>0.003757</td>\n",
       "    </tr>\n",
       "    <tr>\n",
       "      <th>1</th>\n",
       "      <td>1000</td>\n",
       "      <td>100</td>\n",
       "      <td>0.009874</td>\n",
       "    </tr>\n",
       "    <tr>\n",
       "      <th>2</th>\n",
       "      <td>1000</td>\n",
       "      <td>1000</td>\n",
       "      <td>0.140762</td>\n",
       "    </tr>\n",
       "    <tr>\n",
       "      <th>3</th>\n",
       "      <td>1000</td>\n",
       "      <td>10000</td>\n",
       "      <td>0.762913</td>\n",
       "    </tr>\n",
       "    <tr>\n",
       "      <th>4</th>\n",
       "      <td>10000</td>\n",
       "      <td>10</td>\n",
       "      <td>0.053829</td>\n",
       "    </tr>\n",
       "    <tr>\n",
       "      <th>5</th>\n",
       "      <td>10000</td>\n",
       "      <td>100</td>\n",
       "      <td>0.110057</td>\n",
       "    </tr>\n",
       "    <tr>\n",
       "      <th>6</th>\n",
       "      <td>10000</td>\n",
       "      <td>1000</td>\n",
       "      <td>0.269147</td>\n",
       "    </tr>\n",
       "    <tr>\n",
       "      <th>7</th>\n",
       "      <td>10000</td>\n",
       "      <td>10000</td>\n",
       "      <td>1.407382</td>\n",
       "    </tr>\n",
       "    <tr>\n",
       "      <th>8</th>\n",
       "      <td>100000</td>\n",
       "      <td>10</td>\n",
       "      <td>0.059533</td>\n",
       "    </tr>\n",
       "    <tr>\n",
       "      <th>9</th>\n",
       "      <td>100000</td>\n",
       "      <td>100</td>\n",
       "      <td>0.253589</td>\n",
       "    </tr>\n",
       "    <tr>\n",
       "      <th>10</th>\n",
       "      <td>100000</td>\n",
       "      <td>1000</td>\n",
       "      <td>1.003703</td>\n",
       "    </tr>\n",
       "    <tr>\n",
       "      <th>11</th>\n",
       "      <td>100000</td>\n",
       "      <td>10000</td>\n",
       "      <td>2.797853</td>\n",
       "    </tr>\n",
       "  </tbody>\n",
       "</table>\n",
       "</div>"
      ],
      "text/plain": [
       "      nrow  nelem        rt\n",
       "0     1000     10  0.003757\n",
       "1     1000    100  0.009874\n",
       "2     1000   1000  0.140762\n",
       "3     1000  10000  0.762913\n",
       "4    10000     10  0.053829\n",
       "5    10000    100  0.110057\n",
       "6    10000   1000  0.269147\n",
       "7    10000  10000  1.407382\n",
       "8   100000     10  0.059533\n",
       "9   100000    100  0.253589\n",
       "10  100000   1000  1.003703\n",
       "11  100000  10000  2.797853"
      ]
     },
     "execution_count": 9,
     "metadata": {},
     "output_type": "execute_result"
    }
   ],
   "source": [
    "results.iloc[:, :3]"
   ]
  },
  {
   "cell_type": "code",
   "execution_count": null,
   "metadata": {},
   "outputs": [],
   "source": []
  }
 ],
 "metadata": {
  "kernelspec": {
   "display_name": "Python 3.9.13 ('python39')",
   "language": "python",
   "name": "python3"
  },
  "language_info": {
   "codemirror_mode": {
    "name": "ipython",
    "version": 3
   },
   "file_extension": ".py",
   "mimetype": "text/x-python",
   "name": "python",
   "nbconvert_exporter": "python",
   "pygments_lexer": "ipython3",
   "version": "3.9.13"
  },
  "orig_nbformat": 4,
  "vscode": {
   "interpreter": {
    "hash": "54178399f08d9e4f4a60ab23f4a210a71377e48c9bb1378553c53e5ab291a7fd"
   }
  }
 },
 "nbformat": 4,
 "nbformat_minor": 2
}
