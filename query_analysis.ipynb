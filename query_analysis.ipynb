{
 "cells": [
  {
   "cell_type": "code",
   "execution_count": 1,
   "metadata": {},
   "outputs": [
    {
     "name": "stdout",
     "output_type": "stream",
     "text": [
      "r001.ib.bridges2.psc.edu\n"
     ]
    }
   ],
   "source": [
    "!hostname"
   ]
  },
  {
   "cell_type": "code",
   "execution_count": 2,
   "metadata": {},
   "outputs": [],
   "source": [
    "import os\n",
    "from pathlib import Path\n",
    "from itertools import product\n",
    "import time\n",
    "from typing import Tuple\n",
    "from glob import glob\n",
    "\n",
    "import duckdb\n",
    "import numpy as np\n",
    "import pandas as pd\n",
    "from tqdm.notebook import tqdm"
   ]
  },
  {
   "cell_type": "code",
   "execution_count": 3,
   "metadata": {},
   "outputs": [],
   "source": [
    "def dummy_calculation(df: pd.DataFrame) -> float:\n",
    "    array_values = df[\"array\"].values\n",
    "    array_values = np.concatenate(array_values)\n",
    "    return np.mean(array_values)"
   ]
  },
  {
   "cell_type": "code",
   "execution_count": 4,
   "metadata": {},
   "outputs": [],
   "source": [
    "def run_test(\n",
    "    nrows: int,\n",
    "    nelem: int,\n",
    "    root: str = \"data\",\n",
    "    expected_n: int = 200,\n",
    ") -> Tuple[pd.DataFrame, float, float]:\n",
    "\n",
    "    tic = time.monotonic()\n",
    "    datadir = Path(root)  / f\"nrows-{nrows}_nelem-{nelem}\"\n",
    "    attrib = duckdb.from_parquet(str(datadir / \"attrib.parquet\"))\n",
    "    arrays = duckdb.from_parquet(str(datadir / \"arrays-*.parquet\"))\n",
    "\n",
    "    threshold = expected_n / len(attrib)\n",
    "    filtered = attrib.filter(f\"attrib < {threshold:.6f}\")\n",
    "    filtered = filtered.set_alias(\"filtered\")\n",
    "    arrays = arrays.set_alias(\"arrays\")\n",
    "\n",
    "    joined = filtered.join(arrays, \"filtered.index = arrays.index\").df()\n",
    "    result = dummy_calculation(joined)\n",
    "    rt = time.monotonic() - tic\n",
    "    return joined, rt, result"
   ]
  },
  {
   "cell_type": "code",
   "execution_count": 5,
   "metadata": {},
   "outputs": [],
   "source": [
    "def run_test_pandas(\n",
    "    nrows: int,\n",
    "    nelem: int,\n",
    "    root: str = \"data\",\n",
    "    expected_n: int = 200,\n",
    ") -> Tuple[pd.DataFrame, float, float]:\n",
    "\n",
    "    tic = time.monotonic()\n",
    "    datadir = Path(root)  / f\"nrows-{nrows}_nelem-{nelem}\"\n",
    "    attrib = pd.read_parquet(str(datadir / \"attrib.parquet\"))\n",
    "\n",
    "    threshold = expected_n / len(attrib)\n",
    "    filtered = attrib.loc[attrib[\"attrib\"] < round(threshold, 6)]\n",
    "\n",
    "    joined = []\n",
    "    array_paths = sorted(glob(str(datadir / \"arrays-*.parquet\")))\n",
    "    for array_path in array_paths:\n",
    "        arrays = pd.read_parquet(array_path)\n",
    "        joined.append(filtered.merge(arrays, on=\"index\", how=\"inner\"))\n",
    "    joined = pd.concat(joined, ignore_index=True) \n",
    "    result = dummy_calculation(joined)\n",
    "    rt = time.monotonic() - tic\n",
    "    return joined, rt, result"
   ]
  },
  {
   "cell_type": "code",
   "execution_count": 6,
   "metadata": {},
   "outputs": [],
   "source": [
    "nrows = 100000\n",
    "nelem = 1000\n",
    "\n",
    "joined, rt, result = run_test(nrows, nelem)"
   ]
  },
  {
   "cell_type": "code",
   "execution_count": 7,
   "metadata": {},
   "outputs": [
    {
     "data": {
      "text/html": [
       "<div>\n",
       "<style scoped>\n",
       "    .dataframe tbody tr th:only-of-type {\n",
       "        vertical-align: middle;\n",
       "    }\n",
       "\n",
       "    .dataframe tbody tr th {\n",
       "        vertical-align: top;\n",
       "    }\n",
       "\n",
       "    .dataframe thead th {\n",
       "        text-align: right;\n",
       "    }\n",
       "</style>\n",
       "<table border=\"1\" class=\"dataframe\">\n",
       "  <thead>\n",
       "    <tr style=\"text-align: right;\">\n",
       "      <th></th>\n",
       "      <th>index</th>\n",
       "      <th>attrib</th>\n",
       "      <th>index_2</th>\n",
       "      <th>array</th>\n",
       "    </tr>\n",
       "  </thead>\n",
       "  <tbody>\n",
       "    <tr>\n",
       "      <th>0</th>\n",
       "      <td>96396</td>\n",
       "      <td>0.001486</td>\n",
       "      <td>96396</td>\n",
       "      <td>[-0.9589411518757738, -0.17018504684840893, -0...</td>\n",
       "    </tr>\n",
       "    <tr>\n",
       "      <th>1</th>\n",
       "      <td>96485</td>\n",
       "      <td>0.000056</td>\n",
       "      <td>96485</td>\n",
       "      <td>[0.849472157465993, 0.28572346823373884, -1.05...</td>\n",
       "    </tr>\n",
       "    <tr>\n",
       "      <th>2</th>\n",
       "      <td>96535</td>\n",
       "      <td>0.001625</td>\n",
       "      <td>96535</td>\n",
       "      <td>[1.0960983722991202, -0.12945497660078523, 1.6...</td>\n",
       "    </tr>\n",
       "    <tr>\n",
       "      <th>3</th>\n",
       "      <td>96662</td>\n",
       "      <td>0.001350</td>\n",
       "      <td>96662</td>\n",
       "      <td>[0.45738849878008314, -1.7207773066883745, 0.4...</td>\n",
       "    </tr>\n",
       "    <tr>\n",
       "      <th>4</th>\n",
       "      <td>96720</td>\n",
       "      <td>0.000357</td>\n",
       "      <td>96720</td>\n",
       "      <td>[0.4552732291483246, 1.030644894273107, 0.2919...</td>\n",
       "    </tr>\n",
       "  </tbody>\n",
       "</table>\n",
       "</div>"
      ],
      "text/plain": [
       "   index    attrib  index_2                                              array\n",
       "0  96396  0.001486    96396  [-0.9589411518757738, -0.17018504684840893, -0...\n",
       "1  96485  0.000056    96485  [0.849472157465993, 0.28572346823373884, -1.05...\n",
       "2  96535  0.001625    96535  [1.0960983722991202, -0.12945497660078523, 1.6...\n",
       "3  96662  0.001350    96662  [0.45738849878008314, -1.7207773066883745, 0.4...\n",
       "4  96720  0.000357    96720  [0.4552732291483246, 1.030644894273107, 0.2919..."
      ]
     },
     "execution_count": 7,
     "metadata": {},
     "output_type": "execute_result"
    }
   ],
   "source": [
    "joined.head()"
   ]
  },
  {
   "cell_type": "code",
   "execution_count": 8,
   "metadata": {},
   "outputs": [
    {
     "name": "stdout",
     "output_type": "stream",
     "text": [
      "nrow=1000, nelem=10, rt=0.007s\n",
      "nrow=1000, nelem=100, rt=0.014s\n",
      "nrow=1000, nelem=1000, rt=0.076s\n",
      "nrow=1000, nelem=10000, rt=0.593s\n",
      "nrow=10000, nelem=10, rt=0.010s\n",
      "nrow=10000, nelem=100, rt=0.023s\n",
      "nrow=10000, nelem=1000, rt=0.104s\n",
      "nrow=10000, nelem=10000, rt=0.806s\n",
      "nrow=100000, nelem=10, rt=0.023s\n",
      "nrow=100000, nelem=100, rt=0.050s\n",
      "nrow=100000, nelem=1000, rt=0.248s\n",
      "nrow=100000, nelem=10000, rt=2.998s\n"
     ]
    }
   ],
   "source": [
    "results_ddb = []\n",
    "\n",
    "nrows = 10 ** np.arange(3, 6)\n",
    "nelems = 10 ** np.arange(1, 5)\n",
    "\n",
    "for nrow, nelem in product(nrows, nelems):\n",
    "    df, rt, val = run_test(nrow, nelem)\n",
    "    results_ddb.append([nrow, nelem, rt, val])\n",
    "    print(f\"nrow={nrow}, nelem={nelem}, rt={rt:.3f}s\")\n",
    "\n",
    "results_ddb = pd.DataFrame(results_ddb, columns=[\"nrow\", \"nelem\", \"rt\", \"val\"])"
   ]
  },
  {
   "cell_type": "code",
   "execution_count": 9,
   "metadata": {},
   "outputs": [
    {
     "name": "stdout",
     "output_type": "stream",
     "text": [
      "nrow=1000, nelem=10, rt=0.120s\n",
      "nrow=1000, nelem=100, rt=0.009s\n",
      "nrow=1000, nelem=1000, rt=0.019s\n",
      "nrow=1000, nelem=10000, rt=0.123s\n",
      "nrow=10000, nelem=10, rt=0.012s\n",
      "nrow=10000, nelem=100, rt=0.021s\n",
      "nrow=10000, nelem=1000, rt=0.111s\n",
      "nrow=10000, nelem=10000, rt=1.045s\n",
      "nrow=100000, nelem=10, rt=0.056s\n",
      "nrow=100000, nelem=100, rt=0.148s\n",
      "nrow=100000, nelem=1000, rt=1.065s\n",
      "nrow=100000, nelem=10000, rt=10.339s\n"
     ]
    }
   ],
   "source": [
    "results_pd = []\n",
    "\n",
    "for nrow, nelem in product(nrows, nelems):\n",
    "    df, rt, val = run_test_pandas(nrow, nelem)\n",
    "    results_pd.append([nrow, nelem, rt, val])\n",
    "    print(f\"nrow={nrow}, nelem={nelem}, rt={rt:.3f}s\")\n",
    "\n",
    "results_pd = pd.DataFrame(results_pd, columns=[\"nrow\", \"nelem\", \"rt\", \"val\"])"
   ]
  },
  {
   "cell_type": "code",
   "execution_count": 10,
   "metadata": {},
   "outputs": [
    {
     "data": {
      "text/plain": [
       "True"
      ]
     },
     "execution_count": 10,
     "metadata": {},
     "output_type": "execute_result"
    }
   ],
   "source": [
    "np.allclose(results_ddb[\"val\"], results_pd[\"val\"])"
   ]
  },
  {
   "cell_type": "code",
   "execution_count": 11,
   "metadata": {},
   "outputs": [],
   "source": [
    "results = pd.concat([results_ddb.loc[:, [\"nrow\", \"nelem\", \"rt\"]], results_pd.loc[:, [\"rt\"]]], axis=1)\n",
    "results.columns = [\"nrow\", \"nelem\", \"runtime (DuckDB)\", \"runtime (pandas)\"]"
   ]
  },
  {
   "cell_type": "code",
   "execution_count": 12,
   "metadata": {},
   "outputs": [
    {
     "name": "stdout",
     "output_type": "stream",
     "text": [
      "|   nrow |   nelem |   runtime (DuckDB) |   runtime (pandas) |\n",
      "|-------:|--------:|-------------------:|-------------------:|\n",
      "|   1000 |      10 |         0.00729267 |         0.119576   |\n",
      "|   1000 |     100 |         0.0136764  |         0.00939533 |\n",
      "|   1000 |    1000 |         0.0761871  |         0.019083   |\n",
      "|   1000 |   10000 |         0.593045   |         0.12254    |\n",
      "|  10000 |      10 |         0.0097008  |         0.011616   |\n",
      "|  10000 |     100 |         0.0230262  |         0.0214925  |\n",
      "|  10000 |    1000 |         0.103769   |         0.110753   |\n",
      "|  10000 |   10000 |         0.806461   |         1.04455    |\n",
      "| 100000 |      10 |         0.0229186  |         0.0559437  |\n",
      "| 100000 |     100 |         0.0502371  |         0.147699   |\n",
      "| 100000 |    1000 |         0.248135   |         1.06513    |\n",
      "| 100000 |   10000 |         2.99795    |        10.3386     |\n"
     ]
    }
   ],
   "source": [
    "print(results.to_markdown(index=False))"
   ]
  },
  {
   "cell_type": "code",
   "execution_count": null,
   "metadata": {},
   "outputs": [],
   "source": []
  }
 ],
 "metadata": {
  "kernelspec": {
   "display_name": "python39",
   "language": "python",
   "name": "python39"
  },
  "language_info": {
   "codemirror_mode": {
    "name": "ipython",
    "version": 3
   },
   "file_extension": ".py",
   "mimetype": "text/x-python",
   "name": "python",
   "nbconvert_exporter": "python",
   "pygments_lexer": "ipython3",
   "version": "3.9.13"
  },
  "orig_nbformat": 4,
  "vscode": {
   "interpreter": {
    "hash": "54178399f08d9e4f4a60ab23f4a210a71377e48c9bb1378553c53e5ab291a7fd"
   }
  }
 },
 "nbformat": 4,
 "nbformat_minor": 2
}
